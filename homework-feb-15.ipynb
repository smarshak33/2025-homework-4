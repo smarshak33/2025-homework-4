{
 "cells": [
  {
   "cell_type": "code",
   "execution_count": 2,
   "id": "ab5bdd37-cf50-4711-95f8-9c0b3aa00815",
   "metadata": {},
   "outputs": [],
   "source": [
    "## assign values to variables\n",
    "## calculate rate for nyc\n",
    "## calculate the chicago rate\n",
    "## calculate the San Jose rate\n",
    "## write sentence using f-strings that notes which city has the lowest murder rate."
   ]
  },
  {
   "cell_type": "code",
   "execution_count": 40,
   "id": "c331392e-01e3-4561-b822-66074e7723ab",
   "metadata": {},
   "outputs": [],
   "source": [
    "m_Chicago,p_Chicago= 762,2_705_000\n",
    "m_LA,p_LA= 294,3_976_000\n",
    "m_NYC,p_NYC= 334,8_538_000\n",
    "m_SJ,p_SJ=47,1_025_000"
   ]
  },
  {
   "cell_type": "code",
   "execution_count": 60,
   "id": "6d9ebf37-6b63-44e4-859a-701a1a518ac4",
   "metadata": {},
   "outputs": [
    {
     "data": {
      "text/plain": [
       "28.170055452865068"
      ]
     },
     "execution_count": 60,
     "metadata": {},
     "output_type": "execute_result"
    }
   ],
   "source": [
    "Chicago_murder_rate= (m_Chicago/p_Chicago)*100_000\n",
    "Chicago_murder_rate"
   ]
  },
  {
   "cell_type": "code",
   "execution_count": 54,
   "id": "2ac81b5b-195e-4162-a988-6ea15b1a5ea4",
   "metadata": {},
   "outputs": [
    {
     "data": {
      "text/plain": [
       "7.394366197183098"
      ]
     },
     "execution_count": 54,
     "metadata": {},
     "output_type": "execute_result"
    }
   ],
   "source": [
    "LA_murder_rate=(m_LA/p_LA)*100_000\n",
    "LA_murder_rate"
   ]
  },
  {
   "cell_type": "code",
   "execution_count": 52,
   "id": "699a497e-6a2b-4239-bec3-5b3d6a56d937",
   "metadata": {},
   "outputs": [
    {
     "data": {
      "text/plain": [
       "3.911923167018037"
      ]
     },
     "execution_count": 52,
     "metadata": {},
     "output_type": "execute_result"
    }
   ],
   "source": [
    "NYC_murder_rate=(m_NYC/p_NYC)*100_000\n",
    "NYC_murder_rate"
   ]
  },
  {
   "cell_type": "code",
   "execution_count": 58,
   "id": "d18e499e-f262-47e3-b761-e6725394c0e0",
   "metadata": {},
   "outputs": [
    {
     "data": {
      "text/plain": [
       "4.585365853658536"
      ]
     },
     "execution_count": 58,
     "metadata": {},
     "output_type": "execute_result"
    }
   ],
   "source": [
    "SanJose_murder_rate=(m_SJ/p_SJ)*100_000\n",
    "SanJose_murder_rate"
   ]
  },
  {
   "cell_type": "code",
   "execution_count": 102,
   "id": "137a63f4-20e0-46c1-8ea1-2412e19a8f01",
   "metadata": {},
   "outputs": [
    {
     "name": "stdout",
     "output_type": "stream",
     "text": [
      "Chicago has the highest murder rate of 28.170055452865068 per 100k while NYC has the lowest murder rate of 3.911923167018037 per 100k\n"
     ]
    }
   ],
   "source": [
    "print(f\"Chicago has the highest murder rate of {Chicago_murder_rate:,} per 100k while NYC has the lowest murder rate of {NYC_murder_rate:,} per 100k\") "
   ]
  },
  {
   "cell_type": "code",
   "execution_count": null,
   "id": "e86e1040-3a0e-4918-9136-5902c21436ff",
   "metadata": {},
   "outputs": [],
   "source": []
  }
 ],
 "metadata": {
  "kernelspec": {
   "display_name": "Python [conda env:base] *",
   "language": "python",
   "name": "conda-base-py"
  },
  "language_info": {
   "codemirror_mode": {
    "name": "ipython",
    "version": 3
   },
   "file_extension": ".py",
   "mimetype": "text/x-python",
   "name": "python",
   "nbconvert_exporter": "python",
   "pygments_lexer": "ipython3",
   "version": "3.12.7"
  }
 },
 "nbformat": 4,
 "nbformat_minor": 5
}
